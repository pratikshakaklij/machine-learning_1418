{
 "cells": [
  {
   "cell_type": "code",
   "execution_count": null,
   "id": "ca8a7d86",
   "metadata": {},
   "outputs": [],
   "source": [
    "from warnings import filterwarnings\n",
    "filterwarnings('ignore')"
   ]
  },
  {
   "cell_type": "code",
   "execution_count": null,
   "id": "b71e835e",
   "metadata": {},
   "outputs": [],
   "source": [
    "\n",
    "path = r\"https://raw.githubusercontent.com/sindhura-nk/Datasets/refs/heads/main/50_Startups.csv\"\n",
    "import pandas as pd\n",
    "df = pd.read_csv(path)\n",
    "df.head()"
   ]
  },
  {
   "cell_type": "code",
   "execution_count": null,
   "id": "33c6fb8a",
   "metadata": {},
   "outputs": [],
   "source": [
    "## Basic data qulity checks"
   ]
  },
  {
   "cell_type": "markdown",
   "id": "503825e5",
   "metadata": {},
   "source": [
    "df.shape"
   ]
  },
  {
   "cell_type": "code",
   "execution_count": null,
   "id": "2191fb2e",
   "metadata": {},
   "outputs": [],
   "source": [
    "df.columns"
   ]
  },
  {
   "cell_type": "code",
   "execution_count": null,
   "id": "b8e09ca8",
   "metadata": {},
   "outputs": [],
   "source": [
    "df.info"
   ]
  },
  {
   "cell_type": "code",
   "execution_count": null,
   "id": "eda5a0c6",
   "metadata": {},
   "outputs": [],
   "source": [
    "#missing values\n",
    "df.isna().sum()"
   ]
  },
  {
   "cell_type": "code",
   "execution_count": null,
   "id": "0c8bddeb",
   "metadata": {},
   "outputs": [],
   "source": [
    "df.duplicated().sum()"
   ]
  },
  {
   "cell_type": "code",
   "execution_count": null,
   "id": "bbb80a1e",
   "metadata": {},
   "outputs": [],
   "source": [
    "# THere are no missing values nor any duplicated rows in the data \n",
    "## Sparate X AND Y features\n",
    "\n",
    "# Y = PROFIT\n",
    "# X = RND,MKT "
   ]
  },
  {
   "cell_type": "code",
   "execution_count": null,
   "id": "8ed2b6c6",
   "metadata": {},
   "outputs": [],
   "source": [
    "X =df['RND','MKT']\n",
    "Y =df['PROFIT']"
   ]
  },
  {
   "cell_type": "code",
   "execution_count": null,
   "id": "d2d490a7",
   "metadata": {},
   "outputs": [],
   "source": [
    "x.head()"
   ]
  },
  {
   "cell_type": "code",
   "execution_count": null,
   "id": "ca4e5777",
   "metadata": {},
   "outputs": [],
   "source": [
    "y.head()"
   ]
  },
  {
   "cell_type": "code",
   "execution_count": null,
   "id": "f33a95b5",
   "metadata": {},
   "outputs": [],
   "source": [
    "#MODEL BUILDING \n",
    "# YPRED = B0 + B1X1 + B2X2\n",
    "# PROFIT_PREDICTED = B0 + B1RND + B2MKT\n"
   ]
  },
  {
   "cell_type": "code",
   "execution_count": null,
   "id": "e9a5c2e9",
   "metadata": {},
   "outputs": [],
   "source": [
    "from sklearn.linear_model import LinearRegression\n",
    "model = LinearRegression()\n",
    "model.fit(X,Y)"
   ]
  },
  {
   "cell_type": "code",
   "execution_count": null,
   "id": "882209e6",
   "metadata": {},
   "outputs": [],
   "source": [
    "model.intercept_"
   ]
  },
  {
   "cell_type": "code",
   "execution_count": null,
   "id": "eb4fb146",
   "metadata": {},
   "outputs": [],
   "source": [
    "model.coef_"
   ]
  },
  {
   "cell_type": "code",
   "execution_count": null,
   "id": "2ed35095",
   "metadata": {},
   "outputs": [],
   "source": [
    "# PROFIT_PREDICTED = 46975.86 + 0.796*RND + 0.02*MKT\n",
    "# RND AND MKT IS 0 => PROFIT PREDICTED = 46975.86\n",
    "# RND=1,MKT=1 => PROFIT PREDICTED INCREASES BY 0.796 TIMES RND AND 0.02 TIMES MKT"
   ]
  },
  {
   "cell_type": "code",
   "execution_count": null,
   "id": "8203cce8",
   "metadata": {},
   "outputs": [],
   "source": [
    "ypred = model.predict(X)\n",
    "ypred"
   ]
  },
  {
   "cell_type": "code",
   "execution_count": null,
   "id": "0ea931eb",
   "metadata": {},
   "outputs": [],
   "source": [
    "# Evaluate the model\n",
    "# Mean Sqaured Error\n",
    "# Mean Absolute Error\n",
    "# RMSE\n",
    "# R2 score- Coeff of determination"
   ]
  },
  {
   "cell_type": "code",
   "execution_count": null,
   "id": "bae966f6",
   "metadata": {},
   "outputs": [],
   "source": [
    "from sklearn.metrics import mean_squared_error,mean_absolute_error,r2_score"
   ]
  },
  {
   "cell_type": "code",
   "execution_count": null,
   "id": "fd3dc9fb",
   "metadata": {},
   "outputs": [],
   "source": [
    "mse = mean_squared_error(Y,ypreds)\n",
    "mae = mean_absolute_error(Y,ypreds)\n",
    "rmse = mse**(1/2)\n",
    "r2 = r2_score(Y,ypreds)\n",
    "\n",
    "print(f\"MSE: {mse:.2f}\")\n",
    "print(f\"MAE: {mae:.2f}\")\n",
    "print(f\"RMSE: {rmse:.2f}\")\n",
    "print(f\"R2 score: {r2*100:.2f}%\")"
   ]
  },
  {
   "cell_type": "code",
   "execution_count": null,
   "id": "2e862748",
   "metadata": {},
   "outputs": [],
   "source": [
    "# Model can be used for final predictions since the r2 score is greater than 80%\n",
    "# Out of sample predictions"
   ]
  },
  {
   "cell_type": "code",
   "execution_count": null,
   "id": "9ec1db6d",
   "metadata": {},
   "outputs": [],
   "source": [
    "\n",
    "xnew = [180000,205000]"
   ]
  },
  {
   "cell_type": "code",
   "execution_count": null,
   "id": "3b36cf93",
   "metadata": {},
   "outputs": [],
   "source": [
    "profit_predicted = model.predict([xnew])\n",
    "profit_predicted = profit_predicted.round(2)"
   ]
  },
  {
   "cell_type": "code",
   "execution_count": null,
   "id": "76d5633c",
   "metadata": {},
   "outputs": [],
   "source": [
    "print(f\"For the given RND :{xnew[0]} and MKT : {xnew[1]}, Profit predicted by the model is {profit_predicted[0][0]}\")\n"
   ]
  },
  {
   "cell_type": "code",
   "execution_count": null,
   "id": "cdac0daa",
   "metadata": {},
   "outputs": [],
   "source": []
  }
 ],
 "metadata": {
  "kernelspec": {
   "display_name": "venv",
   "language": "python",
   "name": "python3"
  },
  "language_info": {
   "name": "python",
   "version": "3.13.2"
  }
 },
 "nbformat": 4,
 "nbformat_minor": 5
}
